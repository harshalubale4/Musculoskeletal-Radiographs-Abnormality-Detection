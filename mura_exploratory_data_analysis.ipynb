{
  "cells": [
    {
      "cell_type": "markdown",
      "metadata": {
        "hideCode": false,
        "hidePrompt": false,
        "id": "6qroRPzfQYWw"
      },
      "source": [
        "# **Musculoskeletal Radiographs Abnormality Detection**\n",
        "\n",
        "# **Exploratory Data Analysis**"
      ]
    },
    {
      "cell_type": "markdown",
      "metadata": {
        "hideCode": false,
        "hidePrompt": false,
        "id": "Zmmx8rBpQYW0"
      },
      "source": [
        "### **Problem**\n",
        "\n",
        "Determining whether a radiographic study is normal or abnormal is a critical radiological task: a study interpreted as normal rules out disease and can eliminate the need for patients to undergo further diagnostic procedures or interventions. The musculoskeletal abnormality detection task is particularly critical as more than 1.7 billion people are affected by musculoskeletal conditions worldwide (BMU, 2017). These conditions are the most common cause of severe, long-term pain and disability (Woolf & Pfleger, 2003), with 30 million emergency department visits annually and increasing. Our dataset, MURA, contains 9,045 normal and 5,818 abnormal musculoskeletal radio\u0002graphic studies of the upper extremity including the shoulder, humerus, elbow, forearm, wrist, hand, and finger. MURA is one of the largest public radiographic image datasets. More information about the  the dataset can be found [here](http://stanfordmlgroup.github.io/competitions/mura/)  as well as [in this paper](http://https://arxiv.org/pdf/1712.06957.pdf)"
      ]
    },
    {
      "cell_type": "markdown",
      "metadata": {
        "hideCode": false,
        "hidePrompt": false,
        "id": "yh_cx7a-QYW6"
      },
      "source": [
        "# Libraries"
      ]
    },
    {
      "cell_type": "code",
      "execution_count": null,
      "metadata": {
        "execution": {
          "iopub.execute_input": "2022-02-24T11:21:40.376182Z",
          "iopub.status.busy": "2022-02-24T11:21:40.37529Z",
          "iopub.status.idle": "2022-02-24T11:21:41.182451Z",
          "shell.execute_reply": "2022-02-24T11:21:41.181412Z",
          "shell.execute_reply.started": "2022-02-24T11:21:40.376076Z"
        },
        "id": "AJuEiB6eec-z",
        "outputId": "6d6b91b2-fdc4-449f-ad5f-ca3eac32cb42",
        "trusted": true,
        "colab": {
          "base_uri": "https://localhost:8080/"
        }
      },
      "outputs": [
        {
          "output_type": "stream",
          "name": "stdout",
          "text": [
            "/bin/bash: nvidia-smi: command not found\n"
          ]
        }
      ],
      "source": [
        "!nvidia-smi"
      ]
    },
    {
      "cell_type": "code",
      "execution_count": null,
      "metadata": {
        "execution": {
          "iopub.execute_input": "2022-02-24T11:21:41.185142Z",
          "iopub.status.busy": "2022-02-24T11:21:41.184788Z",
          "iopub.status.idle": "2022-02-24T11:21:47.845686Z",
          "shell.execute_reply": "2022-02-24T11:21:47.844883Z",
          "shell.execute_reply.started": "2022-02-24T11:21:41.185101Z"
        },
        "hideCode": false,
        "hidePrompt": false,
        "id": "qSqHhOpTQYW9",
        "trusted": true,
        "outputId": "eefb0edf-b4d2-4a2b-b8e5-24448edf701b",
        "colab": {
          "base_uri": "https://localhost:8080/",
          "height": 356
        }
      },
      "outputs": [
        {
          "output_type": "error",
          "ename": "ModuleNotFoundError",
          "evalue": "ignored",
          "traceback": [
            "\u001b[0;31m---------------------------------------------------------------------------\u001b[0m",
            "\u001b[0;31mModuleNotFoundError\u001b[0m                       Traceback (most recent call last)",
            "\u001b[0;32m<ipython-input-2-8e0618358f7e>\u001b[0m in \u001b[0;36m<cell line: 13>\u001b[0;34m()\u001b[0m\n\u001b[1;32m     11\u001b[0m \u001b[0;32mimport\u001b[0m \u001b[0mgc\u001b[0m\u001b[0;34m\u001b[0m\u001b[0;34m\u001b[0m\u001b[0m\n\u001b[1;32m     12\u001b[0m \u001b[0;32mfrom\u001b[0m \u001b[0mtensorflow\u001b[0m\u001b[0;34m.\u001b[0m\u001b[0mkeras\u001b[0m\u001b[0;34m.\u001b[0m\u001b[0mutils\u001b[0m \u001b[0;32mimport\u001b[0m \u001b[0mto_categorical\u001b[0m\u001b[0;34m\u001b[0m\u001b[0;34m\u001b[0m\u001b[0m\n\u001b[0;32m---> 13\u001b[0;31m \u001b[0;32mfrom\u001b[0m \u001b[0mkeras_preprocessing\u001b[0m\u001b[0;34m.\u001b[0m\u001b[0mimage\u001b[0m \u001b[0;32mimport\u001b[0m \u001b[0mImageDataGenerator\u001b[0m\u001b[0;34m\u001b[0m\u001b[0;34m\u001b[0m\u001b[0m\n\u001b[0m\u001b[1;32m     14\u001b[0m \u001b[0;32mfrom\u001b[0m \u001b[0msklearn\u001b[0m\u001b[0;34m.\u001b[0m\u001b[0mmodel_selection\u001b[0m \u001b[0;32mimport\u001b[0m \u001b[0mtrain_test_split\u001b[0m\u001b[0;34m\u001b[0m\u001b[0;34m\u001b[0m\u001b[0m\n",
            "\u001b[0;31mModuleNotFoundError\u001b[0m: No module named 'keras_preprocessing'",
            "",
            "\u001b[0;31m---------------------------------------------------------------------------\u001b[0;32m\nNOTE: If your import is failing due to a missing package, you can\nmanually install dependencies using either !pip or !apt.\n\nTo view examples of installing some common dependencies, click the\n\"Open Examples\" button below.\n\u001b[0;31m---------------------------------------------------------------------------\u001b[0m\n"
          ],
          "errorDetails": {
            "actions": [
              {
                "action": "open_url",
                "actionText": "Open Examples",
                "url": "/notebooks/snippets/importing_libraries.ipynb"
              }
            ]
          }
        }
      ],
      "source": [
        "import os\n",
        "import random\n",
        "from tqdm import tqdm\n",
        "import numpy as np\n",
        "import pandas as pd\n",
        "import matplotlib.pyplot as plt\n",
        "import tensorflow as tf\n",
        "from enum import Enum\n",
        "import cv2\n",
        "from tensorflow.keras import backend as K # Importing Keras backend (by default it is Tensorflow)\n",
        "import gc\n",
        "from tensorflow.keras.utils import to_categorical\n",
        "from keras_preprocessing.image import ImageDataGenerator\n",
        "from sklearn.model_selection import train_test_split"
      ]
    },
    {
      "cell_type": "markdown",
      "metadata": {
        "hideCode": false,
        "hidePrompt": false,
        "id": "5f8JZcgGQYW-"
      },
      "source": [
        "# Load data"
      ]
    },
    {
      "cell_type": "markdown",
      "metadata": {
        "hideCode": false,
        "hidePrompt": false,
        "id": "uXpB1d33QYW-"
      },
      "source": [
        "This data comes as split dataset (training & validation in separate directories). Each data categories such as training & validation has sub-directories (pls see below).\n"
      ]
    },
    {
      "cell_type": "markdown",
      "metadata": {
        "hideCode": false,
        "hidePrompt": false,
        "id": "v7tc8hpLQYW-"
      },
      "source": [
        "```\n",
        "\n",
        "└─train {data category}\n",
        "│   └───XR_ELBOW {study type}\n",
        "│       │  └───patient00011 {patient}\n",
        "│       │         └───study1_negative {study with label}\n",
        "│       │               └───image1.png {radiographs}\n",
        "│       │               └───image2.png\n",
        "│       │               └───image3.png\n",
        "                        └───...\n",
        "   ...\n",
        "   \n",
        "\n",
        "└─valid {data category}\n",
        "│   └───XR_HUMERUS {study type}\n",
        "│       │  └───patient11216 {patient}\n",
        "│       │         └───study1_negative {study with label}\n",
        "│       │               └───image1.png {radiographs}\n",
        "│       │               └───image2.png\n",
        "                        └───...\n",
        "```"
      ]
    },
    {
      "cell_type": "markdown",
      "metadata": {
        "id": "3Apmv0qDRo8z"
      },
      "source": [
        "## First we Download the dataset"
      ]
    },
    {
      "cell_type": "code",
      "execution_count": null,
      "metadata": {
        "execution": {
          "iopub.execute_input": "2022-02-24T11:21:47.848213Z",
          "iopub.status.busy": "2022-02-24T11:21:47.84671Z",
          "iopub.status.idle": "2022-02-24T11:21:47.857436Z",
          "shell.execute_reply": "2022-02-24T11:21:47.856576Z",
          "shell.execute_reply.started": "2022-02-24T11:21:47.848179Z"
        },
        "id": "P2JnkmfCRssS",
        "trusted": true
      },
      "outputs": [],
      "source": [
        "\"\"\"\n",
        "%%bash\n",
        "wget 'https://cs.stanford.edu/group/mlgroup/MURA-v1.1.zip'\n",
        "unzip MURA-v1.1.zip\n",
        "\"\"\""
      ]
    },
    {
      "cell_type": "markdown",
      "metadata": {
        "hideCode": false,
        "hidePrompt": false,
        "id": "7Gfd_TLiQYW_"
      },
      "source": [
        "#### Let us load the Dataset"
      ]
    },
    {
      "cell_type": "code",
      "execution_count": null,
      "metadata": {
        "execution": {
          "iopub.execute_input": "2022-02-24T11:21:47.859313Z",
          "iopub.status.busy": "2022-02-24T11:21:47.859006Z",
          "iopub.status.idle": "2022-02-24T11:21:47.892448Z",
          "shell.execute_reply": "2022-02-24T11:21:47.891839Z",
          "shell.execute_reply.started": "2022-02-24T11:21:47.859275Z"
        },
        "trusted": true,
        "id": "obo-zbIZKnlp"
      },
      "outputs": [],
      "source": [
        "cd ../input/mura-v11"
      ]
    },
    {
      "cell_type": "markdown",
      "metadata": {
        "id": "RcxpbGgFKnlq"
      },
      "source": [
        "##### Helper Function for loading dataset"
      ]
    },
    {
      "cell_type": "code",
      "execution_count": null,
      "metadata": {
        "execution": {
          "iopub.execute_input": "2022-02-24T11:21:47.89465Z",
          "iopub.status.busy": "2022-02-24T11:21:47.894059Z",
          "iopub.status.idle": "2022-02-24T11:21:47.902222Z",
          "shell.execute_reply": "2022-02-24T11:21:47.901472Z",
          "shell.execute_reply.started": "2022-02-24T11:21:47.894619Z"
        },
        "hideCode": false,
        "hidePrompt": false,
        "id": "usQBhonYQYW_",
        "trusted": true
      },
      "outputs": [],
      "source": [
        "def load_path(path):\n",
        "    dataset = []\n",
        "    for body in os.listdir(path):\n",
        "        body_part = body\n",
        "\n",
        "        path_p = path+'/'+str(body)\n",
        "\n",
        "        for id_p in os.listdir(path_p):\n",
        "            patient_id = id_p\n",
        "            path_id = path_p+'/'+str(id_p)\n",
        "            for lab in os.listdir(path_id):\n",
        "                if lab.split('_')[-1]=='positive':\n",
        "                    label = 1\n",
        "                elif lab.split('_')[-1]=='negative':\n",
        "                    label= 0\n",
        "\n",
        "                path_l = path_id+'/'+str(lab)\n",
        "\n",
        "                for img in os.listdir(path_l):\n",
        "                    img_path = path_l + '/' + str(img)\n",
        "\n",
        "                    dataset.append(\n",
        "                        {\n",
        "                            'body_part': body_part,\n",
        "                            'patient_id': patient_id,\n",
        "                            'label': label,\n",
        "                            'img_path': img_path\n",
        "                        }\n",
        "                    )\n",
        "    return dataset"
      ]
    },
    {
      "cell_type": "code",
      "execution_count": null,
      "metadata": {
        "execution": {
          "iopub.execute_input": "2022-02-24T11:21:47.903695Z",
          "iopub.status.busy": "2022-02-24T11:21:47.903397Z",
          "iopub.status.idle": "2022-02-24T11:21:47.94725Z",
          "shell.execute_reply": "2022-02-24T11:21:47.946182Z",
          "shell.execute_reply.started": "2022-02-24T11:21:47.903665Z"
        },
        "hideCode": false,
        "hidePrompt": false,
        "id": "n8S0KYUAQYXA",
        "trusted": true
      },
      "outputs": [],
      "source": [
        "path = 'MURA-v1.1/train'\n",
        "os.listdir(path)"
      ]
    },
    {
      "cell_type": "code",
      "execution_count": null,
      "metadata": {
        "execution": {
          "iopub.execute_input": "2022-02-24T11:21:47.949115Z",
          "iopub.status.busy": "2022-02-24T11:21:47.948698Z",
          "iopub.status.idle": "2022-02-24T11:22:42.862574Z",
          "shell.execute_reply": "2022-02-24T11:22:42.861961Z",
          "shell.execute_reply.started": "2022-02-24T11:21:47.949073Z"
        },
        "hideCode": false,
        "hidePrompt": false,
        "id": "a8ao-JO7QYXA",
        "trusted": true
      },
      "outputs": [],
      "source": [
        "dataset = load_path(path)\n",
        "df_train = pd.DataFrame(dataset)\n",
        "df_train.head(2)"
      ]
    },
    {
      "cell_type": "code",
      "execution_count": null,
      "metadata": {
        "execution": {
          "iopub.execute_input": "2022-02-24T11:22:42.864151Z",
          "iopub.status.busy": "2022-02-24T11:22:42.863687Z",
          "iopub.status.idle": "2022-02-24T11:22:46.873002Z",
          "shell.execute_reply": "2022-02-24T11:22:46.872405Z",
          "shell.execute_reply.started": "2022-02-24T11:22:42.86411Z"
        },
        "hideCode": false,
        "hidePrompt": false,
        "id": "dtHzEg62QYXB",
        "trusted": true
      },
      "outputs": [],
      "source": [
        "dataset_test = load_path(path = 'MURA-v1.1/valid')\n",
        "df_test = pd.DataFrame(dataset_test)"
      ]
    },
    {
      "cell_type": "markdown",
      "metadata": {
        "id": "-yDgtVhELIZc"
      },
      "source": [
        "## Data Preprocessing"
      ]
    },
    {
      "cell_type": "markdown",
      "metadata": {
        "id": "ViZNO7J9Knlw"
      },
      "source": [
        "#### Creating Dataset for the Model traing and generating Labels for the same."
      ]
    },
    {
      "cell_type": "code",
      "execution_count": null,
      "metadata": {
        "execution": {
          "iopub.execute_input": "2022-02-24T11:22:46.874977Z",
          "iopub.status.busy": "2022-02-24T11:22:46.874287Z",
          "iopub.status.idle": "2022-02-24T11:22:46.893144Z",
          "shell.execute_reply": "2022-02-24T11:22:46.892062Z",
          "shell.execute_reply.started": "2022-02-24T11:22:46.874938Z"
        },
        "id": "lnzyehT7NaUI",
        "trusted": true
      },
      "outputs": [],
      "source": [
        "df_train['label_index']= df_train.label\n",
        "df_train.label_index.replace('positive', 1, inplace=True)\n",
        "df_train.label_index.replace('negative', 0, inplace=True)\n",
        "df_train.head(3)"
      ]
    },
    {
      "cell_type": "code",
      "execution_count": null,
      "metadata": {
        "execution": {
          "iopub.execute_input": "2022-02-24T11:22:46.89467Z",
          "iopub.status.busy": "2022-02-24T11:22:46.894349Z",
          "iopub.status.idle": "2022-02-24T11:22:46.9034Z",
          "shell.execute_reply": "2022-02-24T11:22:46.902761Z",
          "shell.execute_reply.started": "2022-02-24T11:22:46.894645Z"
        },
        "id": "cPUviMCQK90J",
        "trusted": true
      },
      "outputs": [],
      "source": [
        "df_test['label_index']= df_test.label\n",
        "df_test.label_index.replace('positive', 1, inplace=True)\n",
        "df_test.label_index.replace('negative', 0, inplace=True)"
      ]
    },
    {
      "cell_type": "markdown",
      "metadata": {
        "hideCode": false,
        "hidePrompt": false,
        "id": "Vk7cMIR5QYXL"
      },
      "source": [
        "## Exploratory Data Analysis"
      ]
    },
    {
      "cell_type": "code",
      "execution_count": null,
      "metadata": {
        "execution": {
          "iopub.execute_input": "2022-02-24T11:22:46.90465Z",
          "iopub.status.busy": "2022-02-24T11:22:46.904365Z",
          "iopub.status.idle": "2022-02-24T11:22:46.918334Z",
          "shell.execute_reply": "2022-02-24T11:22:46.917542Z",
          "shell.execute_reply.started": "2022-02-24T11:22:46.904626Z"
        },
        "hideCode": false,
        "hidePrompt": false,
        "id": "1BtLzuZFQYXL",
        "trusted": true
      },
      "outputs": [],
      "source": [
        "print('We have '+str(len(df_train))+' train images from all body parts')"
      ]
    },
    {
      "cell_type": "code",
      "execution_count": null,
      "metadata": {
        "execution": {
          "iopub.execute_input": "2022-02-24T11:22:46.920257Z",
          "iopub.status.busy": "2022-02-24T11:22:46.919249Z",
          "iopub.status.idle": "2022-02-24T11:22:46.929856Z",
          "shell.execute_reply": "2022-02-24T11:22:46.92925Z",
          "shell.execute_reply.started": "2022-02-24T11:22:46.920223Z"
        },
        "trusted": true,
        "id": "zfmzIyRhKnl0"
      },
      "outputs": [],
      "source": [
        "print(\"Total Number of training images : \", len(df_train[\"img_path\"]))"
      ]
    },
    {
      "cell_type": "code",
      "execution_count": null,
      "metadata": {
        "execution": {
          "iopub.execute_input": "2022-02-24T11:22:46.930959Z",
          "iopub.status.busy": "2022-02-24T11:22:46.930781Z",
          "iopub.status.idle": "2022-02-24T11:22:46.953938Z",
          "shell.execute_reply": "2022-02-24T11:22:46.953169Z",
          "shell.execute_reply.started": "2022-02-24T11:22:46.930938Z"
        },
        "trusted": true,
        "id": "68R2Q6ZxKnl1"
      },
      "outputs": [],
      "source": [
        "print (\"\\n\\nnumber of null values in:\\n\", df_train.isnull().sum())"
      ]
    },
    {
      "cell_type": "code",
      "execution_count": null,
      "metadata": {
        "execution": {
          "iopub.execute_input": "2022-02-24T11:22:46.956831Z",
          "iopub.status.busy": "2022-02-24T11:22:46.956644Z",
          "iopub.status.idle": "2022-02-24T11:22:46.967707Z",
          "shell.execute_reply": "2022-02-24T11:22:46.96698Z",
          "shell.execute_reply.started": "2022-02-24T11:22:46.956808Z"
        },
        "trusted": true,
        "id": "WeUujRCWKnl1"
      },
      "outputs": [],
      "source": [
        "categories_counts = pd.DataFrame(df_train['body_part'].value_counts())\n",
        "print ('\\n\\ncategories:\\n',categories_counts )"
      ]
    },
    {
      "cell_type": "code",
      "execution_count": null,
      "metadata": {
        "execution": {
          "iopub.execute_input": "2022-02-24T11:22:46.969239Z",
          "iopub.status.busy": "2022-02-24T11:22:46.968877Z",
          "iopub.status.idle": "2022-02-24T11:22:46.980266Z",
          "shell.execute_reply": "2022-02-24T11:22:46.979504Z",
          "shell.execute_reply.started": "2022-02-24T11:22:46.969212Z"
        },
        "trusted": true,
        "id": "15gMozW8Knl2"
      },
      "outputs": [],
      "source": [
        "print('\\n\\nnumber of patients:',df_train['patient_id'].nunique())"
      ]
    },
    {
      "cell_type": "code",
      "execution_count": null,
      "metadata": {
        "execution": {
          "iopub.execute_input": "2022-02-24T11:22:46.981644Z",
          "iopub.status.busy": "2022-02-24T11:22:46.981266Z",
          "iopub.status.idle": "2022-02-24T11:22:46.987384Z",
          "shell.execute_reply": "2022-02-24T11:22:46.986869Z",
          "shell.execute_reply.started": "2022-02-24T11:22:46.981618Z"
        },
        "trusted": true,
        "id": "vUOldrAsKnl3"
      },
      "outputs": [],
      "source": [
        "print('\\n\\nNumber of different labels:',df_train['label'].nunique())"
      ]
    },
    {
      "cell_type": "markdown",
      "metadata": {
        "id": "0lZXWHVrKnl4"
      },
      "source": [
        "#### Different Catagories of Body in which we are checking for abnormality"
      ]
    },
    {
      "cell_type": "code",
      "execution_count": null,
      "metadata": {
        "execution": {
          "iopub.execute_input": "2022-02-24T11:22:46.988697Z",
          "iopub.status.busy": "2022-02-24T11:22:46.988205Z",
          "iopub.status.idle": "2022-02-24T11:22:46.999632Z",
          "shell.execute_reply": "2022-02-24T11:22:46.999092Z",
          "shell.execute_reply.started": "2022-02-24T11:22:46.988671Z"
        },
        "hideCode": false,
        "hidePrompt": false,
        "id": "jBFqU0A5QYXL",
        "trusted": true
      },
      "outputs": [],
      "source": [
        "print('We have Bone X-Ray from: ')\n",
        "path = 'MURA-v1.1/train'\n",
        "print(*os.listdir(path), sep = \"\\n\")"
      ]
    },
    {
      "cell_type": "markdown",
      "metadata": {
        "id": "wraqyfmtKnl5"
      },
      "source": [
        "##### Helper Function for Visualization of Dataset"
      ]
    },
    {
      "cell_type": "code",
      "execution_count": null,
      "metadata": {
        "execution": {
          "iopub.execute_input": "2022-02-24T11:22:47.001292Z",
          "iopub.status.busy": "2022-02-24T11:22:47.000682Z",
          "iopub.status.idle": "2022-02-24T11:22:47.009231Z",
          "shell.execute_reply": "2022-02-24T11:22:47.008489Z",
          "shell.execute_reply.started": "2022-02-24T11:22:47.001259Z"
        },
        "hideCode": false,
        "hidePrompt": false,
        "id": "6HSflIQTQYXM",
        "trusted": true
      },
      "outputs": [],
      "source": [
        "def count_distrib(df_body, body_name):\n",
        "    grouped = df_body.groupby(df_body.label)\n",
        "    pos = len(grouped.get_group(1))\n",
        "    print('We have ' +str(pos)+ ' positive with abnormality '+ body_name + ' scans')\n",
        "    neg = len(grouped.get_group(0))\n",
        "    print( 'We have ' +str(neg)+ ' negative with abnormality '+ body_name + ' scans')\n",
        "    total = len(df_body)\n",
        "    return body_name, pos, neg, total"
      ]
    },
    {
      "cell_type": "markdown",
      "metadata": {
        "hideCode": false,
        "hidePrompt": false,
        "id": "bxcv8PFkQYXL"
      },
      "source": [
        "#### Exploring Different Catagories of Body in which we are checking for abnormality"
      ]
    },
    {
      "cell_type": "markdown",
      "metadata": {
        "id": "fsHTK5dqKnl8"
      },
      "source": [
        "### 1. Elbow Joint"
      ]
    },
    {
      "cell_type": "code",
      "execution_count": null,
      "metadata": {
        "execution": {
          "iopub.execute_input": "2022-02-24T11:22:47.010644Z",
          "iopub.status.busy": "2022-02-24T11:22:47.010297Z",
          "iopub.status.idle": "2022-02-24T11:22:47.035461Z",
          "shell.execute_reply": "2022-02-24T11:22:47.034949Z",
          "shell.execute_reply.started": "2022-02-24T11:22:47.010612Z"
        },
        "hideCode": false,
        "hidePrompt": false,
        "id": "ENAAmj4BQYXM",
        "trusted": true
      },
      "outputs": [],
      "source": [
        "grouped = df_train.groupby(df_train.body_part)\n",
        "df_XR_ELBOW = grouped.get_group(\"XR_ELBOW\")\n",
        "df_XR_ELBOW.head(4)"
      ]
    },
    {
      "cell_type": "code",
      "execution_count": null,
      "metadata": {
        "execution": {
          "iopub.execute_input": "2022-02-24T11:22:47.036844Z",
          "iopub.status.busy": "2022-02-24T11:22:47.036478Z",
          "iopub.status.idle": "2022-02-24T11:22:47.040679Z",
          "shell.execute_reply": "2022-02-24T11:22:47.04017Z",
          "shell.execute_reply.started": "2022-02-24T11:22:47.036818Z"
        },
        "hideCode": false,
        "hidePrompt": false,
        "id": "lkwNEGdQQYXM",
        "trusted": true
      },
      "outputs": [],
      "source": [
        "print(\"Number of training Examples for ELBOW Joint : \",len(df_XR_ELBOW))"
      ]
    },
    {
      "cell_type": "code",
      "execution_count": null,
      "metadata": {
        "execution": {
          "iopub.execute_input": "2022-02-24T11:22:47.0423Z",
          "iopub.status.busy": "2022-02-24T11:22:47.041826Z",
          "iopub.status.idle": "2022-02-24T11:22:47.050224Z",
          "shell.execute_reply": "2022-02-24T11:22:47.049594Z",
          "shell.execute_reply.started": "2022-02-24T11:22:47.042269Z"
        },
        "hideCode": false,
        "hidePrompt": false,
        "id": "pO94WaP-QYXM",
        "trusted": true
      },
      "outputs": [],
      "source": [
        "training_data_distr = []"
      ]
    },
    {
      "cell_type": "code",
      "execution_count": null,
      "metadata": {
        "execution": {
          "iopub.execute_input": "2022-02-24T11:22:47.051821Z",
          "iopub.status.busy": "2022-02-24T11:22:47.051153Z",
          "iopub.status.idle": "2022-02-24T11:22:47.063579Z",
          "shell.execute_reply": "2022-02-24T11:22:47.062721Z",
          "shell.execute_reply.started": "2022-02-24T11:22:47.051779Z"
        },
        "hideCode": false,
        "hidePrompt": false,
        "id": "fE35mfAHQYXM",
        "trusted": true
      },
      "outputs": [],
      "source": [
        "body_name, pos, neg, total = count_distrib(df_XR_ELBOW, 'XR_ELBOW')\n",
        "\n",
        "training_data_distr.append(\n",
        "                    {\n",
        "                    'body_part': body_name,\n",
        "                    'positive': pos,\n",
        "                    'negative': neg,\n",
        "                    'total':total\n",
        "                    })"
      ]
    },
    {
      "cell_type": "markdown",
      "metadata": {
        "id": "x0vQGpGyKnl_"
      },
      "source": [
        "### 2. Finger Joint"
      ]
    },
    {
      "cell_type": "code",
      "execution_count": null,
      "metadata": {
        "execution": {
          "iopub.execute_input": "2022-02-24T11:22:47.065402Z",
          "iopub.status.busy": "2022-02-24T11:22:47.064957Z",
          "iopub.status.idle": "2022-02-24T11:22:47.070967Z",
          "shell.execute_reply": "2022-02-24T11:22:47.070448Z",
          "shell.execute_reply.started": "2022-02-24T11:22:47.065366Z"
        },
        "hideCode": false,
        "hidePrompt": false,
        "id": "2PQvsswsQYXN",
        "trusted": true
      },
      "outputs": [],
      "source": [
        "df_XR_FINGER = grouped.get_group(\"XR_FINGER\")\n"
      ]
    },
    {
      "cell_type": "code",
      "execution_count": null,
      "metadata": {
        "execution": {
          "iopub.execute_input": "2022-02-24T11:22:47.072589Z",
          "iopub.status.busy": "2022-02-24T11:22:47.071991Z",
          "iopub.status.idle": "2022-02-24T11:22:47.080495Z",
          "shell.execute_reply": "2022-02-24T11:22:47.079704Z",
          "shell.execute_reply.started": "2022-02-24T11:22:47.072548Z"
        },
        "hideCode": false,
        "hidePrompt": false,
        "id": "_DVZh8TKQYXN",
        "trusted": true
      },
      "outputs": [],
      "source": [
        "print(\"Number of training XR_FINGER: \",len(df_XR_FINGER))"
      ]
    },
    {
      "cell_type": "code",
      "execution_count": null,
      "metadata": {
        "execution": {
          "iopub.execute_input": "2022-02-24T11:22:47.082359Z",
          "iopub.status.busy": "2022-02-24T11:22:47.081668Z",
          "iopub.status.idle": "2022-02-24T11:22:47.091486Z",
          "shell.execute_reply": "2022-02-24T11:22:47.090714Z",
          "shell.execute_reply.started": "2022-02-24T11:22:47.082327Z"
        },
        "hideCode": false,
        "hidePrompt": false,
        "id": "19UKUhYXQYXN",
        "trusted": true
      },
      "outputs": [],
      "source": [
        "body_name, pos, neg, total = count_distrib(df_XR_FINGER, 'XR_FINGER')\n",
        "\n",
        "training_data_distr.append(\n",
        "                    {\n",
        "                    'body_part': body_name,\n",
        "                    'positive': pos,\n",
        "                    'negative': neg,\n",
        "                    'total':total\n",
        "                    })"
      ]
    },
    {
      "cell_type": "markdown",
      "metadata": {
        "id": "HeBoaLfQKnml"
      },
      "source": [
        "### 3. Forearm Joint"
      ]
    },
    {
      "cell_type": "code",
      "execution_count": null,
      "metadata": {
        "execution": {
          "iopub.execute_input": "2022-02-24T11:22:47.093131Z",
          "iopub.status.busy": "2022-02-24T11:22:47.092744Z",
          "iopub.status.idle": "2022-02-24T11:22:47.101814Z",
          "shell.execute_reply": "2022-02-24T11:22:47.101245Z",
          "shell.execute_reply.started": "2022-02-24T11:22:47.093104Z"
        },
        "hideCode": false,
        "hidePrompt": false,
        "id": "Baoy50vlQYXN",
        "trusted": true
      },
      "outputs": [],
      "source": [
        "df_XR_FOREARM = grouped.get_group(\"XR_FOREARM\")"
      ]
    },
    {
      "cell_type": "code",
      "execution_count": null,
      "metadata": {
        "execution": {
          "iopub.execute_input": "2022-02-24T11:22:47.103292Z",
          "iopub.status.busy": "2022-02-24T11:22:47.102857Z",
          "iopub.status.idle": "2022-02-24T11:22:47.11143Z",
          "shell.execute_reply": "2022-02-24T11:22:47.110911Z",
          "shell.execute_reply.started": "2022-02-24T11:22:47.103252Z"
        },
        "hideCode": false,
        "hidePrompt": false,
        "id": "VxZBhLZtQYXN",
        "trusted": true
      },
      "outputs": [],
      "source": [
        "print(\"Number of training XR_FOREARM: \",len(df_XR_FOREARM))"
      ]
    },
    {
      "cell_type": "code",
      "execution_count": null,
      "metadata": {
        "execution": {
          "iopub.execute_input": "2022-02-24T11:22:47.113163Z",
          "iopub.status.busy": "2022-02-24T11:22:47.112152Z",
          "iopub.status.idle": "2022-02-24T11:22:47.123739Z",
          "shell.execute_reply": "2022-02-24T11:22:47.1231Z",
          "shell.execute_reply.started": "2022-02-24T11:22:47.113132Z"
        },
        "hideCode": false,
        "hidePrompt": false,
        "id": "pkKiIVqGQYXN",
        "trusted": true
      },
      "outputs": [],
      "source": [
        "body_name, pos, neg, total = count_distrib(df_XR_FOREARM, 'XR_FOREARM')\n",
        "\n",
        "training_data_distr.append(\n",
        "                    {\n",
        "                    'body_part': body_name,\n",
        "                    'positive': pos,\n",
        "                    'negative': neg,\n",
        "                    'total':total\n",
        "                    })"
      ]
    },
    {
      "cell_type": "markdown",
      "metadata": {
        "id": "9mREY69MKnmo"
      },
      "source": [
        "### 4. Hand Joint"
      ]
    },
    {
      "cell_type": "code",
      "execution_count": null,
      "metadata": {
        "execution": {
          "iopub.execute_input": "2022-02-24T11:22:47.125187Z",
          "iopub.status.busy": "2022-02-24T11:22:47.124647Z",
          "iopub.status.idle": "2022-02-24T11:22:47.131331Z",
          "shell.execute_reply": "2022-02-24T11:22:47.130582Z",
          "shell.execute_reply.started": "2022-02-24T11:22:47.125159Z"
        },
        "hideCode": false,
        "hidePrompt": false,
        "id": "4zWWTFtfQYXO",
        "trusted": true
      },
      "outputs": [],
      "source": [
        "df_XR_HAND = grouped.get_group(\"XR_HAND\")"
      ]
    },
    {
      "cell_type": "code",
      "execution_count": null,
      "metadata": {
        "execution": {
          "iopub.execute_input": "2022-02-24T11:22:47.132574Z",
          "iopub.status.busy": "2022-02-24T11:22:47.132247Z",
          "iopub.status.idle": "2022-02-24T11:22:47.140521Z",
          "shell.execute_reply": "2022-02-24T11:22:47.139783Z",
          "shell.execute_reply.started": "2022-02-24T11:22:47.132549Z"
        },
        "hideCode": false,
        "hidePrompt": false,
        "id": "1kxdhJNuQYXO",
        "trusted": true
      },
      "outputs": [],
      "source": [
        "print(\"Number of training XR_HAND: \",len(df_XR_HAND))"
      ]
    },
    {
      "cell_type": "code",
      "execution_count": null,
      "metadata": {
        "execution": {
          "iopub.execute_input": "2022-02-24T11:22:47.142713Z",
          "iopub.status.busy": "2022-02-24T11:22:47.142127Z",
          "iopub.status.idle": "2022-02-24T11:22:47.154259Z",
          "shell.execute_reply": "2022-02-24T11:22:47.15355Z",
          "shell.execute_reply.started": "2022-02-24T11:22:47.142674Z"
        },
        "hideCode": false,
        "hidePrompt": false,
        "id": "yO-scBKWQYXO",
        "trusted": true
      },
      "outputs": [],
      "source": [
        "body_name, pos, neg, total = count_distrib(df_XR_HAND, 'XR_HAND')\n",
        "\n",
        "training_data_distr.append(\n",
        "                    {\n",
        "                    'body_part': body_name,\n",
        "                    'positive': pos,\n",
        "                    'negative': neg,\n",
        "                    'total':total\n",
        "                    })"
      ]
    },
    {
      "cell_type": "markdown",
      "metadata": {
        "id": "VXHeJ_RHKnmr"
      },
      "source": [
        "### 5. Humerus Joint"
      ]
    },
    {
      "cell_type": "code",
      "execution_count": null,
      "metadata": {
        "execution": {
          "iopub.execute_input": "2022-02-24T11:22:47.156517Z",
          "iopub.status.busy": "2022-02-24T11:22:47.155832Z",
          "iopub.status.idle": "2022-02-24T11:22:47.161711Z",
          "shell.execute_reply": "2022-02-24T11:22:47.160928Z",
          "shell.execute_reply.started": "2022-02-24T11:22:47.156479Z"
        },
        "hideCode": false,
        "hidePrompt": false,
        "id": "sSZzuyHcQYXO",
        "trusted": true
      },
      "outputs": [],
      "source": [
        "df_XR_HUMERUS = grouped.get_group(\"XR_HUMERUS\")"
      ]
    },
    {
      "cell_type": "code",
      "execution_count": null,
      "metadata": {
        "execution": {
          "iopub.execute_input": "2022-02-24T11:22:47.163466Z",
          "iopub.status.busy": "2022-02-24T11:22:47.162702Z",
          "iopub.status.idle": "2022-02-24T11:22:47.171649Z",
          "shell.execute_reply": "2022-02-24T11:22:47.170996Z",
          "shell.execute_reply.started": "2022-02-24T11:22:47.163423Z"
        },
        "hideCode": false,
        "hidePrompt": false,
        "id": "sWrKc-jnQYXO",
        "trusted": true
      },
      "outputs": [],
      "source": [
        "print(\"Number of training XR_HUMERUS: \",len(df_XR_HUMERUS))"
      ]
    },
    {
      "cell_type": "code",
      "execution_count": null,
      "metadata": {
        "execution": {
          "iopub.execute_input": "2022-02-24T11:22:47.173274Z",
          "iopub.status.busy": "2022-02-24T11:22:47.172822Z",
          "iopub.status.idle": "2022-02-24T11:22:47.184006Z",
          "shell.execute_reply": "2022-02-24T11:22:47.183254Z",
          "shell.execute_reply.started": "2022-02-24T11:22:47.173237Z"
        },
        "hideCode": false,
        "hidePrompt": false,
        "id": "GZ7rkalBQYXO",
        "trusted": true
      },
      "outputs": [],
      "source": [
        "body_name, pos, neg, total = count_distrib(df_XR_HUMERUS, 'XR_HUMERUS')\n",
        "\n",
        "training_data_distr.append(\n",
        "                    {\n",
        "                    'body_part': body_name,\n",
        "                    'positive': pos,\n",
        "                    'negative': neg,\n",
        "                    'total':total\n",
        "                    })"
      ]
    },
    {
      "cell_type": "markdown",
      "metadata": {
        "id": "BWZHf2hiKnmu"
      },
      "source": [
        "### 6. Shoulder Joint"
      ]
    },
    {
      "cell_type": "code",
      "execution_count": null,
      "metadata": {
        "execution": {
          "iopub.execute_input": "2022-02-24T11:22:47.185816Z",
          "iopub.status.busy": "2022-02-24T11:22:47.185328Z",
          "iopub.status.idle": "2022-02-24T11:22:47.192601Z",
          "shell.execute_reply": "2022-02-24T11:22:47.192008Z",
          "shell.execute_reply.started": "2022-02-24T11:22:47.185778Z"
        },
        "hideCode": false,
        "hidePrompt": false,
        "id": "BZ_4_rmeQYXP",
        "trusted": true
      },
      "outputs": [],
      "source": [
        "df_XR_SHOULDER = grouped.get_group(\"XR_SHOULDER\")"
      ]
    },
    {
      "cell_type": "code",
      "execution_count": null,
      "metadata": {
        "execution": {
          "iopub.execute_input": "2022-02-24T11:22:47.194139Z",
          "iopub.status.busy": "2022-02-24T11:22:47.193415Z",
          "iopub.status.idle": "2022-02-24T11:22:47.200622Z",
          "shell.execute_reply": "2022-02-24T11:22:47.200079Z",
          "shell.execute_reply.started": "2022-02-24T11:22:47.1941Z"
        },
        "hideCode": false,
        "hidePrompt": false,
        "id": "G1SvZGTuQYXP",
        "trusted": true
      },
      "outputs": [],
      "source": [
        "print(\"Number of training XR_SHOULDER: \",len(df_XR_SHOULDER))"
      ]
    },
    {
      "cell_type": "code",
      "execution_count": null,
      "metadata": {
        "execution": {
          "iopub.execute_input": "2022-02-24T11:22:47.201873Z",
          "iopub.status.busy": "2022-02-24T11:22:47.201542Z",
          "iopub.status.idle": "2022-02-24T11:22:47.213369Z",
          "shell.execute_reply": "2022-02-24T11:22:47.212519Z",
          "shell.execute_reply.started": "2022-02-24T11:22:47.201844Z"
        },
        "hideCode": false,
        "hidePrompt": false,
        "id": "ztv5S_A2QYXP",
        "trusted": true
      },
      "outputs": [],
      "source": [
        "body_name, pos, neg, total = count_distrib(df_XR_SHOULDER, 'XR_SHOULDER')\n",
        "\n",
        "training_data_distr.append(\n",
        "                    {\n",
        "                    'body_part': body_name,\n",
        "                    'positive': pos,\n",
        "                    'negative': neg,\n",
        "                    'total':total\n",
        "                    })"
      ]
    },
    {
      "cell_type": "markdown",
      "metadata": {
        "id": "sOiSXnD7Knmy"
      },
      "source": [
        "### 7. Wrist Joint"
      ]
    },
    {
      "cell_type": "code",
      "execution_count": null,
      "metadata": {
        "execution": {
          "iopub.execute_input": "2022-02-24T11:22:47.214874Z",
          "iopub.status.busy": "2022-02-24T11:22:47.214449Z",
          "iopub.status.idle": "2022-02-24T11:22:47.222077Z",
          "shell.execute_reply": "2022-02-24T11:22:47.221341Z",
          "shell.execute_reply.started": "2022-02-24T11:22:47.214844Z"
        },
        "hideCode": false,
        "hidePrompt": false,
        "id": "5uQH-lATQYXP",
        "trusted": true
      },
      "outputs": [],
      "source": [
        "df_XR_WRIST = grouped.get_group(\"XR_WRIST\")"
      ]
    },
    {
      "cell_type": "code",
      "execution_count": null,
      "metadata": {
        "execution": {
          "iopub.execute_input": "2022-02-24T11:22:47.22524Z",
          "iopub.status.busy": "2022-02-24T11:22:47.224841Z",
          "iopub.status.idle": "2022-02-24T11:22:47.231532Z",
          "shell.execute_reply": "2022-02-24T11:22:47.230919Z",
          "shell.execute_reply.started": "2022-02-24T11:22:47.225209Z"
        },
        "hideCode": false,
        "hidePrompt": false,
        "id": "MTossDCMQYXP",
        "trusted": true
      },
      "outputs": [],
      "source": [
        "print(\"Number of training XR_WRIST: \",len(df_XR_WRIST))"
      ]
    },
    {
      "cell_type": "code",
      "execution_count": null,
      "metadata": {
        "execution": {
          "iopub.execute_input": "2022-02-24T11:22:47.233164Z",
          "iopub.status.busy": "2022-02-24T11:22:47.232492Z",
          "iopub.status.idle": "2022-02-24T11:22:47.249162Z",
          "shell.execute_reply": "2022-02-24T11:22:47.248096Z",
          "shell.execute_reply.started": "2022-02-24T11:22:47.2331Z"
        },
        "hideCode": false,
        "hidePrompt": false,
        "id": "Nhi8noZJQYXQ",
        "trusted": true
      },
      "outputs": [],
      "source": [
        "body_name, pos, neg, total = count_distrib(df_XR_WRIST, 'XR_WRIST')\n",
        "\n",
        "training_data_distr.append(\n",
        "                    {\n",
        "                    'body_part': body_name,\n",
        "                    'positive': pos,\n",
        "                    'negative': neg,\n",
        "                    'total':total\n",
        "                    })"
      ]
    },
    {
      "cell_type": "markdown",
      "metadata": {
        "hideCode": false,
        "hidePrompt": false,
        "id": "mUEFk4saQYXQ"
      },
      "source": [
        "### Explore data distribution with plots"
      ]
    },
    {
      "cell_type": "code",
      "execution_count": null,
      "metadata": {
        "execution": {
          "iopub.execute_input": "2022-02-24T11:22:47.254804Z",
          "iopub.status.busy": "2022-02-24T11:22:47.254159Z",
          "iopub.status.idle": "2022-02-24T11:22:47.259849Z",
          "shell.execute_reply": "2022-02-24T11:22:47.259098Z",
          "shell.execute_reply.started": "2022-02-24T11:22:47.254763Z"
        },
        "hideCode": false,
        "hidePrompt": false,
        "id": "KT9fbKkYQYXQ",
        "trusted": true
      },
      "outputs": [],
      "source": [
        "training_data_distr = pd.DataFrame(training_data_distr)"
      ]
    },
    {
      "cell_type": "code",
      "execution_count": null,
      "metadata": {
        "execution": {
          "iopub.execute_input": "2022-02-24T11:22:47.261177Z",
          "iopub.status.busy": "2022-02-24T11:22:47.260935Z",
          "iopub.status.idle": "2022-02-24T11:22:47.27175Z",
          "shell.execute_reply": "2022-02-24T11:22:47.27107Z",
          "shell.execute_reply.started": "2022-02-24T11:22:47.261149Z"
        },
        "hideCode": false,
        "hidePrompt": false,
        "id": "c_Hof9HOQYXQ",
        "trusted": true
      },
      "outputs": [],
      "source": [
        "training_data_distr['percentage'] = round(100 * training_data_distr['total'] / len(df_train.body_part), 2)"
      ]
    },
    {
      "cell_type": "markdown",
      "metadata": {
        "id": "v9rt3jLxKnm7"
      },
      "source": [
        "#### The Overview of our Training Dataset"
      ]
    },
    {
      "cell_type": "code",
      "execution_count": null,
      "metadata": {
        "execution": {
          "iopub.execute_input": "2022-02-24T11:22:47.273163Z",
          "iopub.status.busy": "2022-02-24T11:22:47.272927Z",
          "iopub.status.idle": "2022-02-24T11:22:47.289436Z",
          "shell.execute_reply": "2022-02-24T11:22:47.288365Z",
          "shell.execute_reply.started": "2022-02-24T11:22:47.273136Z"
        },
        "hideCode": false,
        "hidePrompt": false,
        "id": "tOPDhMveQYXQ",
        "trusted": true
      },
      "outputs": [],
      "source": [
        "print('Training Data Distribution')\n",
        "training_data_distr"
      ]
    },
    {
      "cell_type": "code",
      "execution_count": null,
      "metadata": {
        "execution": {
          "iopub.execute_input": "2022-02-24T11:22:47.291188Z",
          "iopub.status.busy": "2022-02-24T11:22:47.29062Z",
          "iopub.status.idle": "2022-02-24T11:22:47.607824Z",
          "shell.execute_reply": "2022-02-24T11:22:47.607091Z",
          "shell.execute_reply.started": "2022-02-24T11:22:47.291142Z"
        },
        "hideCode": false,
        "hidePrompt": false,
        "id": "rckeME41QYXQ",
        "trusted": true
      },
      "outputs": [],
      "source": [
        "labels = training_data_distr['body_part']\n",
        "negative = training_data_distr['negative']\n",
        "positive = training_data_distr['positive']\n",
        "\n",
        "x = np.arange(len(labels))\n",
        "width = 0.25\n",
        "\n",
        "fig = plt.figure(figsize=(14, 10))\n",
        "\n",
        "ax = fig.subplots()\n",
        "rects1 = ax.bar(x - width/2, negative, width, label='Negative')\n",
        "rects2 = ax.bar(x + width/2, positive, width, label='Positive')\n",
        "ax.set_ylabel('Number of Body Parts')\n",
        "ax.set_xlabel('Body Parts')\n",
        "ax.set_title('Counts distribution of X-Ray fro each part of body')\n",
        "ax.set_xticks(x)\n",
        "ax.set_xticklabels(labels)\n",
        "ax.legend()\n",
        "\n",
        "def autolabel(rects):\n",
        "    for rect in rects:\n",
        "        height = rect.get_height()\n",
        "        ax.text(rect.get_x() + rect.get_width()/2., 1.00*height,\n",
        "                '%d' % int(height),\n",
        "                ha='center', va='bottom')\n",
        "\n",
        "autolabel(rects1)\n",
        "autolabel(rects2)\n",
        "\n",
        "plt.show()"
      ]
    },
    {
      "cell_type": "markdown",
      "metadata": {
        "id": "1l5bV7MXKnm-"
      },
      "source": [
        "### Observation from the graph is -\n",
        "* We have the least data for Humerus Joint followed by Forearm.\n",
        "* We have the largest data for Wrist and Shoulder.\n",
        "* This variation in the data point will make it more harder for the model to learn about Abnormality in Humerus and Forearm joint.\n"
      ]
    },
    {
      "cell_type": "markdown",
      "metadata": {
        "id": "Zb-D2JloKnm_"
      },
      "source": [
        "### Let us analyze dataset more\n",
        "\n",
        "##### 1. Training Set"
      ]
    },
    {
      "cell_type": "code",
      "execution_count": null,
      "metadata": {
        "execution": {
          "iopub.execute_input": "2022-02-24T11:22:47.609143Z",
          "iopub.status.busy": "2022-02-24T11:22:47.608942Z",
          "iopub.status.idle": "2022-02-24T11:22:47.619269Z",
          "shell.execute_reply": "2022-02-24T11:22:47.618553Z",
          "shell.execute_reply.started": "2022-02-24T11:22:47.609118Z"
        },
        "hideCode": false,
        "hidePrompt": false,
        "id": "S7hHeL3cQYXR",
        "trusted": true
      },
      "outputs": [],
      "source": [
        "grouped = df_train.groupby(df_train.label)\n",
        "pos = len(grouped.get_group(1))\n",
        "neg = len(grouped.get_group(0))"
      ]
    },
    {
      "cell_type": "code",
      "execution_count": null,
      "metadata": {
        "execution": {
          "iopub.execute_input": "2022-02-24T11:22:47.620692Z",
          "iopub.status.busy": "2022-02-24T11:22:47.620423Z",
          "iopub.status.idle": "2022-02-24T11:22:47.625904Z",
          "shell.execute_reply": "2022-02-24T11:22:47.62524Z",
          "shell.execute_reply.started": "2022-02-24T11:22:47.620656Z"
        },
        "hideCode": false,
        "hidePrompt": false,
        "id": "AJsg08T-QYXR",
        "trusted": true
      },
      "outputs": [],
      "source": [
        "print(\"Number of positives:\",pos)\n",
        "print(\"Number of negatives:\",neg)"
      ]
    },
    {
      "cell_type": "code",
      "execution_count": null,
      "metadata": {
        "execution": {
          "iopub.execute_input": "2022-02-24T11:22:47.628808Z",
          "iopub.status.busy": "2022-02-24T11:22:47.626962Z",
          "iopub.status.idle": "2022-02-24T11:22:47.771623Z",
          "shell.execute_reply": "2022-02-24T11:22:47.770769Z",
          "shell.execute_reply.started": "2022-02-24T11:22:47.628774Z"
        },
        "hideCode": false,
        "hidePrompt": false,
        "id": "87PR4SjqQYXR",
        "trusted": true
      },
      "outputs": [],
      "source": [
        "# the data you want to plot\n",
        "categories = [\"Negative\"]\n",
        "values     = [ neg]\n",
        "\n",
        "categories2 = [\"Positive\"]\n",
        "values2     = [  pos]\n",
        "\n",
        "plt.bar(categories, values)\n",
        "plt.bar(categories2, values2)\n",
        "plt.title('Distribution of X-Ray Images')\n",
        "plt.xlabel('Detection')\n",
        "plt.ylabel('count')\n",
        "\n",
        "\n",
        "plt.show()"
      ]
    },
    {
      "cell_type": "markdown",
      "metadata": {
        "hideCode": false,
        "hidePrompt": false,
        "id": "y6sjgNVIQYXR"
      },
      "source": [
        "#### We can conclude that the dataset of trainnig data is unbalance with more negative images."
      ]
    },
    {
      "cell_type": "markdown",
      "metadata": {
        "hideCode": false,
        "hidePrompt": false,
        "id": "MV7QoPw0QYXS"
      },
      "source": [
        "#### 2. Test set"
      ]
    },
    {
      "cell_type": "code",
      "execution_count": null,
      "metadata": {
        "execution": {
          "iopub.execute_input": "2022-02-24T11:22:47.773466Z",
          "iopub.status.busy": "2022-02-24T11:22:47.772958Z",
          "iopub.status.idle": "2022-02-24T11:22:47.779521Z",
          "shell.execute_reply": "2022-02-24T11:22:47.778706Z",
          "shell.execute_reply.started": "2022-02-24T11:22:47.773422Z"
        },
        "trusted": true,
        "id": "Gxv1HkcXKnnE"
      },
      "outputs": [],
      "source": [
        "df_test.label.head()"
      ]
    },
    {
      "cell_type": "code",
      "execution_count": null,
      "metadata": {
        "execution": {
          "iopub.execute_input": "2022-02-24T11:22:47.780934Z",
          "iopub.status.busy": "2022-02-24T11:22:47.780665Z",
          "iopub.status.idle": "2022-02-24T11:22:47.79519Z",
          "shell.execute_reply": "2022-02-24T11:22:47.794364Z",
          "shell.execute_reply.started": "2022-02-24T11:22:47.780897Z"
        },
        "hideCode": false,
        "hidePrompt": false,
        "id": "89pfUDUyQYXS",
        "trusted": true
      },
      "outputs": [],
      "source": [
        "grouped = df_train.groupby(df_train.label)\n",
        "pos = len(grouped.get_group(1))\n",
        "neg = len(grouped.get_group(0))"
      ]
    },
    {
      "cell_type": "code",
      "execution_count": null,
      "metadata": {
        "execution": {
          "iopub.execute_input": "2022-02-24T11:22:47.796693Z",
          "iopub.status.busy": "2022-02-24T11:22:47.796317Z",
          "iopub.status.idle": "2022-02-24T11:22:47.801435Z",
          "shell.execute_reply": "2022-02-24T11:22:47.80084Z",
          "shell.execute_reply.started": "2022-02-24T11:22:47.79666Z"
        },
        "hideCode": false,
        "hidePrompt": false,
        "id": "mU5i9IkXQYXS",
        "trusted": true
      },
      "outputs": [],
      "source": [
        "print(\"Number of positives:\",pos)\n",
        "print(\"Number of negatives:\",neg)"
      ]
    },
    {
      "cell_type": "code",
      "execution_count": null,
      "metadata": {
        "execution": {
          "iopub.execute_input": "2022-02-24T11:22:47.803024Z",
          "iopub.status.busy": "2022-02-24T11:22:47.802269Z",
          "iopub.status.idle": "2022-02-24T11:22:47.947476Z",
          "shell.execute_reply": "2022-02-24T11:22:47.946271Z",
          "shell.execute_reply.started": "2022-02-24T11:22:47.802994Z"
        },
        "hideCode": false,
        "hidePrompt": false,
        "id": "nW4AX4GyQYXS",
        "trusted": true
      },
      "outputs": [],
      "source": [
        "categories = [\"Negative\"]\n",
        "values     = [ neg]\n",
        "categories2 = [\"Positive\"]\n",
        "values2     = [  pos]\n",
        "plt.bar(categories, values)\n",
        "plt.bar(categories2, values2)\n",
        "plt.title('Distribution of X-Ray')\n",
        "plt.xlabel('labels')\n",
        "plt.ylabel('count')\n",
        "plt.show()"
      ]
    },
    {
      "cell_type": "markdown",
      "metadata": {
        "hideCode": false,
        "hidePrompt": false,
        "id": "-_tufk8uQYXT"
      },
      "source": [
        "#### The dataset of test data is far more balance than train data.\n"
      ]
    },
    {
      "cell_type": "markdown",
      "metadata": {
        "hideCode": false,
        "hidePrompt": false,
        "id": "X-z2ib38QYXI"
      },
      "source": [
        "## Now Preprocessing some Images ."
      ]
    },
    {
      "cell_type": "code",
      "execution_count": null,
      "metadata": {
        "execution": {
          "iopub.execute_input": "2022-02-24T11:22:47.950896Z",
          "iopub.status.busy": "2022-02-24T11:22:47.950073Z",
          "iopub.status.idle": "2022-02-24T11:22:47.955063Z",
          "shell.execute_reply": "2022-02-24T11:22:47.954265Z",
          "shell.execute_reply.started": "2022-02-24T11:22:47.950849Z"
        },
        "hideCode": false,
        "hidePrompt": false,
        "id": "l_M_eM2tQYXI",
        "trusted": true
      },
      "outputs": [],
      "source": [
        "im_size = 256"
      ]
    },
    {
      "cell_type": "markdown",
      "metadata": {
        "id": "u9Iyy_vSKnnJ"
      },
      "source": [
        "#### Random Rotation flip"
      ]
    },
    {
      "cell_type": "code",
      "execution_count": null,
      "metadata": {
        "execution": {
          "iopub.execute_input": "2022-02-24T11:22:47.956445Z",
          "iopub.status.busy": "2022-02-24T11:22:47.95626Z",
          "iopub.status.idle": "2022-02-24T11:22:47.966258Z",
          "shell.execute_reply": "2022-02-24T11:22:47.965639Z",
          "shell.execute_reply.started": "2022-02-24T11:22:47.956423Z"
        },
        "hideCode": false,
        "hidePrompt": false,
        "id": "7lSfSEP9QYXI",
        "trusted": true
      },
      "outputs": [],
      "source": [
        "def random_rotation_flip(image,size = 256):\n",
        "    if random.randint(0,1):\n",
        "        image = cv2.flip(image,1) # 1-->horizontal flip 0-->Vertical flip -1-->Horizontal and vertical\n",
        "\n",
        "    if random.randint(0,1):\n",
        "            angle = random.randint(-30,30)\n",
        "            M = cv2.getRotationMatrix2D((size/2,size/2),angle,1)\n",
        "            #The third parameter: the size of the transformed image\n",
        "            image = cv2.warpAffine(image,M,(size,size))\n",
        "    return image"
      ]
    },
    {
      "cell_type": "code",
      "execution_count": null,
      "metadata": {
        "execution": {
          "iopub.execute_input": "2022-02-24T11:22:47.967422Z",
          "iopub.status.busy": "2022-02-24T11:22:47.967134Z",
          "iopub.status.idle": "2022-02-24T11:22:47.978183Z",
          "shell.execute_reply": "2022-02-24T11:22:47.977566Z",
          "shell.execute_reply.started": "2022-02-24T11:22:47.967398Z"
        },
        "hideCode": false,
        "hidePrompt": false,
        "id": "_Ba18mEbQYXJ",
        "trusted": true
      },
      "outputs": [],
      "source": [
        "def image_loader(Path, size = 224):\n",
        "\n",
        "    Images = []\n",
        "\n",
        "    for path in tqdm(Path):\n",
        "        try:\n",
        "            image = cv2.imread(path,cv2.IMREAD_GRAYSCALE)\n",
        "            image = cv2.resize(image,(size,size))\n",
        "            image = random_rotation_flip(image,size)\n",
        "            Images.append(image)\n",
        "\n",
        "        except Exception as e:\n",
        "            print(str(e))\n",
        "\n",
        "    Images = np.asarray(Images).astype('float32')\n",
        "\n",
        "    #normalization\n",
        "    mean = np.mean(Images)\n",
        "    std = np.std(Images)\n",
        "    Images = (Images - mean) / std\n",
        "\n",
        "    return Images"
      ]
    },
    {
      "cell_type": "code",
      "execution_count": null,
      "metadata": {
        "execution": {
          "iopub.execute_input": "2022-02-24T11:22:47.979437Z",
          "iopub.status.busy": "2022-02-24T11:22:47.979122Z",
          "iopub.status.idle": "2022-02-24T11:22:47.994879Z",
          "shell.execute_reply": "2022-02-24T11:22:47.994325Z",
          "shell.execute_reply.started": "2022-02-24T11:22:47.979405Z"
        },
        "trusted": true,
        "id": "wfOxNt8PKnnM"
      },
      "outputs": [],
      "source": [
        "df_train.head()"
      ]
    },
    {
      "cell_type": "code",
      "execution_count": null,
      "metadata": {
        "execution": {
          "iopub.execute_input": "2022-02-24T11:22:47.996385Z",
          "iopub.status.busy": "2022-02-24T11:22:47.996013Z",
          "iopub.status.idle": "2022-02-24T11:22:48.001646Z",
          "shell.execute_reply": "2022-02-24T11:22:48.000949Z",
          "shell.execute_reply.started": "2022-02-24T11:22:47.996348Z"
        },
        "trusted": true,
        "id": "r-qVQ3meKnnN"
      },
      "outputs": [],
      "source": [
        "cd ../input/mura-v11"
      ]
    },
    {
      "cell_type": "code",
      "execution_count": null,
      "metadata": {
        "execution": {
          "iopub.execute_input": "2022-02-24T11:22:48.003005Z",
          "iopub.status.busy": "2022-02-24T11:22:48.002672Z",
          "iopub.status.idle": "2022-02-24T11:22:48.712983Z",
          "shell.execute_reply": "2022-02-24T11:22:48.712193Z",
          "shell.execute_reply.started": "2022-02-24T11:22:48.00297Z"
        },
        "hideCode": false,
        "hidePrompt": false,
        "id": "RLiwAYT7QYXJ",
        "trusted": true
      },
      "outputs": [],
      "source": [
        "X_train = image_loader(df_train['img_path'][:50,],im_size)"
      ]
    },
    {
      "cell_type": "code",
      "execution_count": null,
      "metadata": {
        "execution": {
          "iopub.execute_input": "2022-02-24T11:22:48.714686Z",
          "iopub.status.busy": "2022-02-24T11:22:48.714186Z",
          "iopub.status.idle": "2022-02-24T11:22:48.719901Z",
          "shell.execute_reply": "2022-02-24T11:22:48.719229Z",
          "shell.execute_reply.started": "2022-02-24T11:22:48.71464Z"
        },
        "hideCode": false,
        "hidePrompt": false,
        "id": "s2XVXEj_QYXK",
        "trusted": true
      },
      "outputs": [],
      "source": [
        "y_train = df_train['label']\n",
        "Y_train = y_train.replace(\"positive\",1)\n",
        "Y_train = Y_train.replace(\"negative\",0)"
      ]
    },
    {
      "cell_type": "code",
      "execution_count": null,
      "metadata": {
        "execution": {
          "iopub.execute_input": "2022-02-24T11:22:48.720815Z",
          "iopub.status.busy": "2022-02-24T11:22:48.720637Z",
          "iopub.status.idle": "2022-02-24T11:22:49.335234Z",
          "shell.execute_reply": "2022-02-24T11:22:49.334611Z",
          "shell.execute_reply.started": "2022-02-24T11:22:48.720791Z"
        },
        "hideCode": false,
        "hidePrompt": false,
        "id": "AFrV4gRlQYXK",
        "trusted": true
      },
      "outputs": [],
      "source": [
        "X_test = image_loader(df_test['img_path'][:50,],im_size)"
      ]
    },
    {
      "cell_type": "code",
      "execution_count": null,
      "metadata": {
        "execution": {
          "iopub.execute_input": "2022-02-24T11:22:49.336551Z",
          "iopub.status.busy": "2022-02-24T11:22:49.336195Z",
          "iopub.status.idle": "2022-02-24T11:22:49.341287Z",
          "shell.execute_reply": "2022-02-24T11:22:49.340265Z",
          "shell.execute_reply.started": "2022-02-24T11:22:49.336519Z"
        },
        "hideCode": false,
        "hidePrompt": false,
        "id": "pBGbBM28QYXL",
        "trusted": true
      },
      "outputs": [],
      "source": [
        "y_test = df_test['label']\n",
        "Y_test = y_test.replace(\"positive\",1)\n",
        "Y_test = Y_test.replace(\"negative\",0)"
      ]
    },
    {
      "cell_type": "markdown",
      "metadata": {
        "id": "R1jRII0WLdRS"
      },
      "source": [
        "### Plots/ Visualization of Images."
      ]
    },
    {
      "cell_type": "code",
      "execution_count": null,
      "metadata": {
        "execution": {
          "iopub.execute_input": "2022-02-24T11:22:49.342731Z",
          "iopub.status.busy": "2022-02-24T11:22:49.342325Z",
          "iopub.status.idle": "2022-02-24T11:22:49.352678Z",
          "shell.execute_reply": "2022-02-24T11:22:49.35199Z",
          "shell.execute_reply.started": "2022-02-24T11:22:49.342702Z"
        },
        "hideCode": false,
        "hidePrompt": false,
        "id": "w6MksqovQYXU",
        "trusted": true
      },
      "outputs": [],
      "source": [
        "def print_img_with_colorbar(image):\n",
        "    fig = plt.figure()\n",
        "    plt.imshow(image, cmap = plt.cm.binary)\n",
        "    plt.colorbar()"
      ]
    },
    {
      "cell_type": "code",
      "execution_count": null,
      "metadata": {
        "execution": {
          "iopub.execute_input": "2022-02-24T11:22:49.354616Z",
          "iopub.status.busy": "2022-02-24T11:22:49.354201Z",
          "iopub.status.idle": "2022-02-24T11:22:49.627814Z",
          "shell.execute_reply": "2022-02-24T11:22:49.62707Z",
          "shell.execute_reply.started": "2022-02-24T11:22:49.354565Z"
        },
        "hideCode": false,
        "hidePrompt": false,
        "id": "0f7vkZSZQYXU",
        "trusted": true
      },
      "outputs": [],
      "source": [
        "print_img_with_colorbar(X_train[0])"
      ]
    },
    {
      "cell_type": "code",
      "execution_count": null,
      "metadata": {
        "execution": {
          "iopub.execute_input": "2022-02-24T11:22:49.629672Z",
          "iopub.status.busy": "2022-02-24T11:22:49.629094Z",
          "iopub.status.idle": "2022-02-24T11:22:51.043391Z",
          "shell.execute_reply": "2022-02-24T11:22:51.042718Z",
          "shell.execute_reply.started": "2022-02-24T11:22:49.62964Z"
        },
        "hideCode": false,
        "hidePrompt": false,
        "id": "i2t1nrRfQYXU",
        "trusted": true
      },
      "outputs": [],
      "source": [
        "def print_range_images(images, images_label):\n",
        "    plt.figure(figsize=(10,10))\n",
        "    for i in range(25):\n",
        "        plt.subplot(5,5,i+1)\n",
        "        plt.xticks([])\n",
        "        plt.yticks([])\n",
        "        plt.grid(False)\n",
        "        plt.imshow(images[i], cmap=plt.cm.binary)\n",
        "        plt.xlabel(images_label[i])\n",
        "\n",
        "print_range_images(X_train, y_train)"
      ]
    },
    {
      "cell_type": "code",
      "execution_count": null,
      "metadata": {
        "execution": {
          "iopub.execute_input": "2022-02-24T11:22:51.044924Z",
          "iopub.status.busy": "2022-02-24T11:22:51.044606Z",
          "iopub.status.idle": "2022-02-24T11:22:52.439976Z",
          "shell.execute_reply": "2022-02-24T11:22:52.439079Z",
          "shell.execute_reply.started": "2022-02-24T11:22:51.044886Z"
        },
        "hideCode": false,
        "hidePrompt": false,
        "id": "QZi0i0WoQYXV",
        "trusted": true
      },
      "outputs": [],
      "source": [
        "from skimage.io import imread\n",
        "sub_df = df_train.groupby(['body_part', 'label']).apply(lambda x: x.sample(1)).reset_index(drop = True)\n",
        "fig, (m_axs) = plt.subplots(4, sub_df.shape[0]//4, figsize = (12, 12))\n",
        "for c_ax, (_, c_row) in zip(m_axs.flatten(), sub_df.iterrows()):\n",
        "    c_ax.imshow(imread(c_row['img_path']), cmap = 'bone')\n",
        "    c_ax.axis('off')\n",
        "    c_ax.set_title('{body_part}:{label}'.format(**c_row))"
      ]
    }
  ],
  "metadata": {
    "kernelspec": {
      "display_name": "Julia 1.8.2",
      "language": "julia",
      "name": "julia-1.8"
    },
    "language_info": {
      "codemirror_mode": {
        "name": "ipython",
        "version": 3
      },
      "file_extension": ".py",
      "mimetype": "text/x-python",
      "name": "julia",
      "nbconvert_exporter": "python",
      "pygments_lexer": "ipython3",
      "version": "3.9.13"
    },
    "colab": {
      "provenance": []
    }
  },
  "nbformat": 4,
  "nbformat_minor": 0
}